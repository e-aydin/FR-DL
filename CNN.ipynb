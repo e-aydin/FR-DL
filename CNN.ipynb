{
 "cells": [
  {
   "cell_type": "code",
   "execution_count": 1,
   "id": "8a2f7514",
   "metadata": {},
   "outputs": [],
   "source": [
    "from nearpy import Engine\n",
    "from nearpy.hashes import RandomBinaryProjections\n",
    "import numpy as np\n",
    "import os\n",
    "import cv2\n",
    "from sklearn.model_selection import train_test_split\n",
    "import tensorflow as tf\n",
    "from sklearn.metrics import accuracy_score, confusion_matrix\n",
    "import seaborn as sns\n",
    "import matplotlib.pyplot as plt\n",
    "from tensorflow.keras.callbacks import TensorBoard"
   ]
  },
  {
   "cell_type": "code",
   "execution_count": 2,
   "id": "b20f2580",
   "metadata": {},
   "outputs": [],
   "source": [
    "# Define the log directory\n",
    "log_dir = \"logs/a1/\"\n",
    "\n",
    "# Create a TensorBoard callback\n",
    "tensorboard_callback = TensorBoard(log_dir=log_dir, histogram_freq=1)\n"
   ]
  },
  {
   "cell_type": "code",
   "execution_count": 3,
   "id": "d5c7acc1-7f7c-4b46-9d57-c75c6786d1ea",
   "metadata": {},
   "outputs": [],
   "source": [
    "# Veri setinin bulunduğu klasörü belirtin\n",
    "data_dir = 'lfw-deepfunneled/'\n",
    "\n",
    "# Görüntüleri ve etiketleri depolamak için boş listeler oluşturun\n",
    "images = []\n",
    "labels = []\n",
    "\n",
    "# Tüm klasörleri döngüye alarak görüntüleri yükleyin ve etiketleri oluşturun\n",
    "for person_name in os.listdir(data_dir):\n",
    "    person_dir = os.path.join(data_dir, person_name)\n",
    "    if os.path.isdir(person_dir):\n",
    "        for image_name in os.listdir(person_dir):\n",
    "            image_path = os.path.join(person_dir, image_name)\n",
    "            image = cv2.imread(image_path)\n",
    "            image = cv2.cvtColor(image, cv2.COLOR_BGR2RGB)\n",
    "            images.append(image)\n",
    "            labels.append(person_name)\n"
   ]
  },
  {
   "cell_type": "code",
   "execution_count": 4,
   "id": "4a421de0-4dc5-44d6-9397-2e09e87ca2c2",
   "metadata": {},
   "outputs": [],
   "source": [
    "class_names = np.unique(labels)\n",
    "class_indices = {class_name: i for i, class_name in enumerate(class_names)}\n",
    "\n",
    "# Etiketleri sayısal forma dönüştürme\n",
    "labels = [class_indices[label] for label in labels]\n"
   ]
  },
  {
   "cell_type": "code",
   "execution_count": 5,
   "id": "2f4e37c3-a4ec-4fb5-b705-07ceb033c157",
   "metadata": {},
   "outputs": [],
   "source": [
    "from sklearn.model_selection import train_test_split\n",
    "\n",
    "X_train, X_val, y_train, y_val = train_test_split(images, labels, test_size=0.2, random_state=42)\n"
   ]
  },
  {
   "cell_type": "code",
   "execution_count": 7,
   "id": "8dbefbb4-bc09-4dd7-bc7c-13a943ce5407",
   "metadata": {},
   "outputs": [],
   "source": [
    "import numpy as np\n",
    "\n",
    "X_train = np.array(X_train)\n",
    "y_train = np.array(y_train)\n",
    "X_val = np.array(X_val)\n",
    "y_val = np.array(y_val)\n"
   ]
  },
  {
   "cell_type": "code",
   "execution_count": 6,
   "id": "0fe6bd56-7560-4ce2-b3f5-161c870d0608",
   "metadata": {},
   "outputs": [
    {
     "name": "stdout",
     "output_type": "stream",
     "text": [
      "Model: \"sequential\"\n",
      "_________________________________________________________________\n",
      " Layer (type)                Output Shape              Param #   \n",
      "=================================================================\n",
      " conv2d (Conv2D)             (None, 248, 248, 32)      896       \n",
      "                                                                 \n",
      " max_pooling2d (MaxPooling2D  (None, 124, 124, 32)     0         \n",
      " )                                                               \n",
      "                                                                 \n",
      " conv2d_1 (Conv2D)           (None, 122, 122, 64)      18496     \n",
      "                                                                 \n",
      " max_pooling2d_1 (MaxPooling  (None, 61, 61, 64)       0         \n",
      " 2D)                                                             \n",
      "                                                                 \n",
      " conv2d_2 (Conv2D)           (None, 59, 59, 128)       73856     \n",
      "                                                                 \n",
      " max_pooling2d_2 (MaxPooling  (None, 29, 29, 128)      0         \n",
      " 2D)                                                             \n",
      "                                                                 \n",
      " flatten (Flatten)           (None, 107648)            0         \n",
      "                                                                 \n",
      " dense (Dense)               (None, 512)               55116288  \n",
      "                                                                 \n",
      " dense_1 (Dense)             (None, 5749)              2949237   \n",
      "                                                                 \n",
      "=================================================================\n",
      "Total params: 58,158,773\n",
      "Trainable params: 58,158,773\n",
      "Non-trainable params: 0\n",
      "_________________________________________________________________\n"
     ]
    }
   ],
   "source": [
    "import tensorflow as tf\n",
    "\n",
    "model = tf.keras.Sequential([\n",
    "    tf.keras.layers.Conv2D(32, (3,3), activation='relu', input_shape=(250, 250, 3)),\n",
    "    tf.keras.layers.MaxPooling2D(2,2),\n",
    "    tf.keras.layers.Conv2D(64, (3,3), activation='relu'),\n",
    "    tf.keras.layers.MaxPooling2D(2,2),\n",
    "    tf.keras.layers.Conv2D(128, (3,3), activation='relu'),\n",
    "    tf.keras.layers.MaxPooling2D(2,2),\n",
    "    tf.keras.layers.Flatten(),\n",
    "    tf.keras.layers.Dense(512, activation='relu'),\n",
    "    tf.keras.layers.Dense(5749, activation='softmax')\n",
    "])\n",
    "\n",
    "model.compile(optimizer='adam',\n",
    "              loss='sparse_categorical_crossentropy',\n",
    "              metrics=['accuracy'])\n",
    "\n",
    "model.summary()"
   ]
  },
  {
   "cell_type": "code",
   "execution_count": 8,
   "id": "d23908eb-25e3-49bd-9132-46d714209478",
   "metadata": {},
   "outputs": [
    {
     "name": "stdout",
     "output_type": "stream",
     "text": [
      "Epoch 1/10\n",
      "331/331 [==============================] - 103s 310ms/step - loss: 8.7605 - accuracy: 0.0354 - val_loss: 8.0697 - val_accuracy: 0.0427\n",
      "Epoch 2/10\n",
      "331/331 [==============================] - 103s 312ms/step - loss: 7.2178 - accuracy: 0.0456 - val_loss: 8.4162 - val_accuracy: 0.0438\n",
      "Epoch 3/10\n",
      "331/331 [==============================] - 112s 340ms/step - loss: 5.2592 - accuracy: 0.0910 - val_loss: 10.6675 - val_accuracy: 0.0287\n",
      "Epoch 4/10\n",
      "331/331 [==============================] - 89s 268ms/step - loss: 2.0311 - accuracy: 0.5454 - val_loss: 16.6844 - val_accuracy: 0.0280\n",
      "Epoch 5/10\n",
      "331/331 [==============================] - 91s 276ms/step - loss: 0.4465 - accuracy: 0.8935 - val_loss: 24.0505 - val_accuracy: 0.0174\n",
      "Epoch 6/10\n",
      "331/331 [==============================] - 89s 268ms/step - loss: 0.1294 - accuracy: 0.9708 - val_loss: 26.4985 - val_accuracy: 0.0314\n",
      "Epoch 7/10\n",
      "331/331 [==============================] - 93s 280ms/step - loss: 0.0745 - accuracy: 0.9832 - val_loss: 30.5938 - val_accuracy: 0.0230\n",
      "Epoch 8/10\n",
      "331/331 [==============================] - 104s 313ms/step - loss: 0.1022 - accuracy: 0.9776 - val_loss: 29.1654 - val_accuracy: 0.0249\n",
      "Epoch 9/10\n",
      "331/331 [==============================] - 100s 304ms/step - loss: 0.1599 - accuracy: 0.9616 - val_loss: 29.8665 - val_accuracy: 0.0193\n",
      "Epoch 10/10\n",
      "331/331 [==============================] - 93s 283ms/step - loss: 0.1050 - accuracy: 0.9754 - val_loss: 28.6558 - val_accuracy: 0.0268\n"
     ]
    },
    {
     "data": {
      "text/plain": [
       "<keras.callbacks.History at 0x1af46ce4eb0>"
      ]
     },
     "execution_count": 8,
     "metadata": {},
     "output_type": "execute_result"
    }
   ],
   "source": [
    "model.fit(X_train, y_train, epochs=10, validation_data=(X_val, y_val), callbacks=[tensorboard_callback])\n"
   ]
  },
  {
   "cell_type": "code",
   "execution_count": 9,
   "id": "c871e06f-3572-4b0f-89ee-2dad1f4efc8f",
   "metadata": {},
   "outputs": [
    {
     "name": "stdout",
     "output_type": "stream",
     "text": [
      "331/331 [==============================] - 4s 10ms/step\n",
      "Eğitim Doğruluk: 0.9833742679010014\n"
     ]
    }
   ],
   "source": [
    "from sklearn.metrics import accuracy_score\n",
    "\n",
    "y_pred_train = model.predict(X_train)\n",
    "y_pred_train = np.argmax(y_pred_train, axis=1)\n",
    "\n",
    "train_accuracy = accuracy_score(y_train, y_pred_train)\n",
    "print(f'Eğitim Doğruluk: {train_accuracy}')\n"
   ]
  },
  {
   "cell_type": "code",
   "execution_count": 10,
   "id": "11dcb56c-e068-4c00-886c-51d8de65824f",
   "metadata": {},
   "outputs": [
    {
     "name": "stdout",
     "output_type": "stream",
     "text": [
      "83/83 [==============================] - 1s 10ms/step\n"
     ]
    }
   ],
   "source": [
    "y_pred = model.predict(np.array(X_val))\n",
    "predicted_labels = np.argmax(y_pred, axis=1)\n"
   ]
  },
  {
   "cell_type": "code",
   "execution_count": 1,
   "id": "a05407ec-80d1-4c7e-912e-2a1e67633bd9",
   "metadata": {},
   "outputs": [
    {
     "data": {
      "text/plain": [
       "Reusing TensorBoard on port 6007 (pid 16976), started 1 day, 17:04:31 ago. (Use '!kill 16976' to kill it.)"
      ]
     },
     "metadata": {},
     "output_type": "display_data"
    },
    {
     "data": {
      "text/html": [
       "\n",
       "      <iframe id=\"tensorboard-frame-d0b4a9fe872c8242\" width=\"100%\" height=\"800\" frameborder=\"0\">\n",
       "      </iframe>\n",
       "      <script>\n",
       "        (function() {\n",
       "          const frame = document.getElementById(\"tensorboard-frame-d0b4a9fe872c8242\");\n",
       "          const url = new URL(\"/\", window.location);\n",
       "          const port = 6007;\n",
       "          if (port) {\n",
       "            url.port = port;\n",
       "          }\n",
       "          frame.src = url;\n",
       "        })();\n",
       "      </script>\n",
       "    "
      ],
      "text/plain": [
       "<IPython.core.display.HTML object>"
      ]
     },
     "metadata": {},
     "output_type": "display_data"
    }
   ],
   "source": [
    "%load_ext tensorboard\n",
    "%tensorboard --logdir=logs --port=6007\n",
    "\n"
   ]
  },
  {
   "cell_type": "code",
   "execution_count": null,
   "id": "0c7904fe",
   "metadata": {},
   "outputs": [],
   "source": []
  }
 ],
 "metadata": {
  "kernelspec": {
   "display_name": "Python 3 (ipykernel)",
   "language": "python",
   "name": "python3"
  },
  "language_info": {
   "codemirror_mode": {
    "name": "ipython",
    "version": 3
   },
   "file_extension": ".py",
   "mimetype": "text/x-python",
   "name": "python",
   "nbconvert_exporter": "python",
   "pygments_lexer": "ipython3",
   "version": "3.10.0"
  }
 },
 "nbformat": 4,
 "nbformat_minor": 5
}
